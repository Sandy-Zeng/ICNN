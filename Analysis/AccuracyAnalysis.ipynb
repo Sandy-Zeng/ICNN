{
 "cells": [
  {
   "cell_type": "code",
   "execution_count": 111,
   "metadata": {},
   "outputs": [
    {
     "name": "stdout",
     "output_type": "stream",
     "text": [
      "Init Finished!\n"
     ]
    }
   ],
   "source": [
    "import os, sys\n",
    "import time\n",
    "import torch\n",
    "import torch.nn as nn\n",
    "from torch.autograd import Variable\n",
    "import numpy as np\n",
    "\n",
    "from models import ResNet as resnet_cifar\n",
    "import pandas as pd\n",
    "import argparse\n",
    "import csv\n",
    "from torch.optim.lr_scheduler import MultiStepLR\n",
    "from dataLoader import DataLoader\n",
    "from summaries import TensorboardSummary\n",
    "\n",
    "from sklearn.metrics import confusion_matrix, classification_report    # 生成混淆矩阵函数\n",
    "import matplotlib.pyplot as plt    # 绘图库\n",
    "\n",
    "print('Init Finished!')"
   ]
  },
  {
   "cell_type": "markdown",
   "metadata": {},
   "source": [
    "# Model Load"
   ]
  },
  {
   "cell_type": "code",
   "execution_count": 119,
   "metadata": {},
   "outputs": [],
   "source": [
    "args_depth = 20\n",
    "num_classes = 10\n",
    "args_dataset = 'cifar-10'\n",
    "args_batch_size = 128\n",
    "PATH = '../tb_dir/cifar_exp/test_256bs_200epoch_baseline'\n",
    "# PATH = '../tb_dir/cifar_exp/test_256bs_200epoch_layer3_1/3epoch'\n",
    "model_path = os.path.join(PATH, 'saved_model.pt')"
   ]
  },
  {
   "cell_type": "code",
   "execution_count": 6,
   "metadata": {},
   "outputs": [
    {
     "name": "stdout",
     "output_type": "stream",
     "text": [
      "Files already downloaded and verified\n",
      "Files already downloaded and verified\n"
     ]
    }
   ],
   "source": [
    "# Data Loader\n",
    "loader = DataLoader(args_dataset,batch_size=args_batch_size)\n",
    "dataloaders,dataset_sizes = loader.load_data()"
   ]
  },
  {
   "cell_type": "code",
   "execution_count": 121,
   "metadata": {},
   "outputs": [
    {
     "name": "stdout",
     "output_type": "stream",
     "text": [
      "Successfully Load Model:  saved_model.pt\n"
     ]
    }
   ],
   "source": [
    "model = resnet_cifar(depth=args_depth, num_classes=num_classes)\n",
    "model = model.cuda()\n",
    "model = torch.nn.DataParallel(model)\n",
    "model.load_state_dict(torch.load(model_path))\n",
    "print('Successfully Load Model: ', os.path.basename(model_path))"
   ]
  },
  {
   "cell_type": "code",
   "execution_count": 69,
   "metadata": {},
   "outputs": [],
   "source": [
    "def printF(i, total=100):\n",
    "    i = int( i / total * 100) + 1\n",
    "    total = 100\n",
    "    k = i + 1\n",
    "    str_ = '>'*i + '' ''*(total-k)\n",
    "    sys.stdout.write('\\r'+str_+'[%s%%]'%(i+1))\n",
    "    sys.stdout.flush()\n",
    "    if(i >= total -1): print()"
   ]
  },
  {
   "cell_type": "code",
   "execution_count": 122,
   "metadata": {},
   "outputs": [
    {
     "name": "stdout",
     "output_type": "stream",
     "text": [
      ">>>>>>>>>>>>>>>>>>>>>>>>>>>>>>>>>>>>>>>>>>>>>>>>>>>>>>>>>>>>>>>>>>>>>>>>>>>>>>>>>>>>>>>>>>>>>>>>>>>[100%]\n",
      "val top1 Acc:0.8753\n"
     ]
    }
   ],
   "source": [
    "use_gpu = True\n",
    "epoch = 1\n",
    "phase = 'val'\n",
    "running_corrects = 0.0\n",
    "data_len = len(dataloaders[phase])\n",
    "# print(data_len)\n",
    "true_labels = []\n",
    "model_preds = []\n",
    "for idx,data in enumerate(dataloaders[phase]):\n",
    "    printF(idx, data_len)\n",
    "    inputs,labels = data\n",
    "    if use_gpu:\n",
    "        inputs = Variable(inputs.cuda())\n",
    "        labels = Variable(labels.cuda())\n",
    "    else:\n",
    "        inputs, labels = Variable(inputs), Variable(labels)\n",
    "    #forward\n",
    "    outputs = model(inputs, labels, epoch)\n",
    "    _, preds = torch.max(outputs.data, 1)\n",
    "    # _,top5_preds = torch.topk(outputs.data,k=5,dim=1)\n",
    "    # print ('group loss:',group_loss[0])\n",
    "    y = labels.data\n",
    "    batch_size = labels.data.shape[0]\n",
    "    # print(y.resize_(batch_size,1))\n",
    "    running_corrects += torch.sum(preds == y)\n",
    "    # top5_corrects += torch.sum(top5_preds == y.resize_(batch_size,1))\n",
    "    epoch_acc = float(running_corrects) /dataset_sizes[phase]\n",
    "    true_labels.extend(y.cpu().numpy())\n",
    "    model_preds.extend(preds.cpu().numpy())\n",
    "print('%s top1 Acc:%.4f'%(phase,epoch_acc))"
   ]
  },
  {
   "cell_type": "code",
   "execution_count": 123,
   "metadata": {},
   "outputs": [
    {
     "name": "stdout",
     "output_type": "stream",
     "text": [
      "[[876   4  25  11   6   2   3   6  24  14]\n",
      " [  6 936   1   2   2   2   1   3  14  36]\n",
      " [ 24   1 824  23  31  10  18   8   6   6]\n",
      " [ 16   4  40 787  30 112  33  19   5   7]\n",
      " [  6   1  38  30 863  24  16  24   1   1]\n",
      " [  1   1  15  85  25 809  10  22   2   1]\n",
      " [  2   2  42  23  15   6 912   3   4   0]\n",
      " [  2   0   7  15  23  27   3 908   1   6]\n",
      " [ 51   8   4   8   3   2   1   2 930  21]\n",
      " [ 16  43   4  16   2   6   3   5  13 908]]\n"
     ]
    }
   ],
   "source": [
    "labels_name = ('plane', 'car', 'bird', 'cat',\n",
    "           'deer', 'dog', 'frog', 'horse', 'ship', 'truck')\n",
    "def plot_confusion_matrix(cm, labels_name, title):\n",
    "    cm = cm.astype('float') / cm.sum(axis=1)[:, np.newaxis]    # 归一化\n",
    "    plt.imshow(cm, interpolation='nearest')    # 在特定的窗口上显示图像\n",
    "    plt.title(title)    # 图像标题\n",
    "    plt.colorbar()\n",
    "    num_local = np.array(range(len(labels_name)))    \n",
    "    plt.xticks(num_local, labels_name, rotation=90)    # 将标签印在x轴坐标上\n",
    "    plt.yticks(num_local, labels_name)    # 将标签印在y轴坐标上\n",
    "    plt.ylabel('True label')    \n",
    "    plt.xlabel('Predicted label')\n",
    "\n",
    "np.shape(true_labels)\n",
    "np.shape(model_preds)\n",
    "# pred_y = session.run(tf.argmax(y_, 1), feed_dict={X: test_x})\n",
    "cm = confusion_matrix(model_preds, true_labels)\n",
    "print(cm)"
   ]
  },
  {
   "cell_type": "code",
   "execution_count": 118,
   "metadata": {},
   "outputs": [
    {
     "data": {
      "image/png": "[encoded data removed]",
      "text/plain": [
       "<Figure size 432x288 with 2 Axes>"
      ]
     },
     "metadata": {
      "needs_background": "light"
     },
     "output_type": "display_data"
    },
    {
     "name": "stdout",
     "output_type": "stream",
     "text": [
      "              precision    recall  f1-score   support\n",
      "\n",
      "       plane       0.88      0.88      0.88       999\n",
      "         car       0.93      0.93      0.93      1001\n",
      "        bird       0.81      0.86      0.84       940\n",
      "         cat       0.77      0.75      0.76      1029\n",
      "        deer       0.88      0.88      0.88      1000\n",
      "         dog       0.82      0.82      0.82       999\n",
      "        frog       0.91      0.92      0.91       989\n",
      "       horse       0.92      0.90      0.91      1014\n",
      "        ship       0.93      0.92      0.92      1019\n",
      "       truck       0.92      0.91      0.92      1010\n",
      "\n",
      "   micro avg       0.88      0.88      0.88     10000\n",
      "   macro avg       0.88      0.88      0.88     10000\n",
      "weighted avg       0.88      0.88      0.88     10000\n",
      "\n"
     ]
    }
   ],
   "source": [
    "plot_confusion_matrix(cm, labels_name, \"HAR Confusion Matrix\")\n",
    "# plt.savefig('/HAR_cm.png', format='png')\n",
    "plt.show()\n",
    "print(classification_report(model_preds, true_labels, target_names=labels_name))"
   ]
  },
  {
   "cell_type": "code",
   "execution_count": 124,
   "metadata": {},
   "outputs": [
    {
     "data": {
      "image/png": "[encoded data removed]",
      "text/plain": [
       "<Figure size 432x288 with 2 Axes>"
      ]
     },
     "metadata": {
      "needs_background": "light"
     },
     "output_type": "display_data"
    },
    {
     "name": "stdout",
     "output_type": "stream",
     "text": [
      "              precision    recall  f1-score   support\n",
      "\n",
      "       plane       0.88      0.90      0.89       971\n",
      "         car       0.94      0.93      0.93      1003\n",
      "        bird       0.82      0.87      0.84       951\n",
      "         cat       0.79      0.75      0.77      1053\n",
      "        deer       0.86      0.86      0.86      1004\n",
      "         dog       0.81      0.83      0.82       971\n",
      "        frog       0.91      0.90      0.91      1009\n",
      "       horse       0.91      0.92      0.91       992\n",
      "        ship       0.93      0.90      0.92      1030\n",
      "       truck       0.91      0.89      0.90      1016\n",
      "\n",
      "   micro avg       0.88      0.88      0.88     10000\n",
      "   macro avg       0.88      0.88      0.88     10000\n",
      "weighted avg       0.88      0.88      0.88     10000\n",
      "\n"
     ]
    }
   ],
   "source": [
    "plot_confusion_matrix(cm, labels_name, \"HAR Confusion Matrix\")\n",
    "# plt.savefig('/HAR_cm.png', format='png')\n",
    "plt.show()\n",
    "print(classification_report(model_preds, true_labels, target_names=labels_name))"
   ]
  }
 ],
 "metadata": {
  "kernelspec": {
   "display_name": "Python 3",
   "language": "python",
   "name": "python3"
  },
  "language_info": {
   "codemirror_mode": {
    "name": "ipython",
    "version": 3
   },
   "file_extension": ".py",
   "mimetype": "text/x-python",
   "name": "python",
   "nbconvert_exporter": "python",
   "pygments_lexer": "ipython3",
   "version": "3.6.8"
  }
 },
 "nbformat": 4,
 "nbformat_minor": 2
}
